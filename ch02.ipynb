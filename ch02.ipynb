{
 "cells": [
  {
   "cell_type": "markdown",
   "metadata": {},
   "source": [
    "## 제2장"
   ]
  },
  {
   "cell_type": "code",
   "execution_count": 2,
   "metadata": {
    "vscode": {
     "languageId": "r"
    }
   },
   "outputs": [
    {
     "name": "stderr",
     "output_type": "stream",
     "text": [
      "Loading required package: combinat\n",
      "\n",
      "\n",
      "Attaching package: ‘combinat’\n",
      "\n",
      "\n",
      "The following object is masked from ‘package:utils’:\n",
      "\n",
      "    combn\n",
      "\n",
      "\n",
      "Loading required package: fAsianOptions\n",
      "\n",
      "Loading required package: timeDate\n",
      "\n",
      "Loading required package: timeSeries\n",
      "\n",
      "Loading required package: fBasics\n",
      "\n",
      "Loading required package: fOptions\n",
      "\n",
      "\n",
      "Attaching package: ‘prob’\n",
      "\n",
      "\n",
      "The following objects are masked from ‘package:base’:\n",
      "\n",
      "    intersect, setdiff, union\n",
      "\n",
      "\n"
     ]
    }
   ],
   "source": [
    "#install.packages(\"prob\")\n",
    "library(prob)"
   ]
  },
  {
   "cell_type": "code",
   "execution_count": 3,
   "metadata": {
    "vscode": {
     "languageId": "r"
    }
   },
   "outputs": [
    {
     "name": "stdout",
     "output_type": "stream",
     "text": [
      "  toss1\n",
      "1     H\n",
      "2     T\n",
      "  toss1 toss2 toss3\n",
      "1     H     H     H\n",
      "2     T     H     H\n",
      "3     H     T     H\n",
      "4     T     T     H\n",
      "5     H     H     T\n",
      "6     T     H     T\n",
      "7     H     T     T\n",
      "8     T     T     T\n"
     ]
    }
   ],
   "source": [
    "# 동전 1회 던지기\n",
    "t1 = tosscoin(1)\n",
    "print(t1)\n",
    "# 동전 3회 던지기\n",
    "t3 = tosscoin(3)\n",
    "print(t3)"
   ]
  },
  {
   "cell_type": "code",
   "execution_count": 4,
   "metadata": {
    "vscode": {
     "languageId": "r"
    }
   },
   "outputs": [
    {
     "name": "stdout",
     "output_type": "stream",
     "text": [
      "  X1\n",
      "1  1\n",
      "2  2\n",
      "3  3\n",
      "4  4\n",
      "5  5\n",
      "6  6\n"
     ]
    }
   ],
   "source": [
    "#주사위 1회 던지기\n",
    "r1 = rolldie(1)\n",
    "print(r1)"
   ]
  },
  {
   "cell_type": "code",
   "execution_count": 5,
   "metadata": {
    "vscode": {
     "languageId": "r"
    }
   },
   "outputs": [
    {
     "name": "stdout",
     "output_type": "stream",
     "text": [
      "[1] \" 순서 고려, 복원추출  \"\n",
      "  X1 X2\n",
      "1  a  a\n",
      "2  b  a\n",
      "3  c  a\n",
      "4  a  b\n",
      "5  b  b\n",
      "6  c  b\n",
      "7  a  c\n",
      "8  b  c\n",
      "9  c  c\n",
      "[1] \" 순서 고려, 비복원추출  \"\n",
      "  X1 X2\n",
      "1  a  b\n",
      "2  b  a\n",
      "3  a  c\n",
      "4  c  a\n",
      "5  b  c\n",
      "6  c  b\n",
      "[1] \" 순서 비고려, 비복원추출  \"\n",
      "  X1 X2\n",
      "1  a  b\n",
      "2  a  c\n",
      "3  b  c\n"
     ]
    }
   ],
   "source": [
    "# 순서 고려, 복원추출\n",
    "u1 = urnsamples(x=c(\"a\",\"b\",\"c\"), size=2, replace=TRUE, ordered=TRUE)\n",
    "print(\" 순서 고려, 복원추출  \")\n",
    "print(u1)\n",
    "\n",
    "# 순서 고려, 비복원추출\n",
    "u2 = urnsamples(x=c(\"a\",\"b\",\"c\"), size=2, replace=FALSE, ordered=TRUE)\n",
    "print(\" 순서 고려, 비복원추출  \")\n",
    "print(u2)\n",
    "\n",
    "# 순서 비고려, 비복원추출\n",
    "u3 = urnsamples(x=c(\"a\",\"b\",\"c\"), size=2, replace=FALSE, ordered=FALSE)\n",
    "print(\" 순서 비고려, 비복원추출  \")\n",
    "print(u3)"
   ]
  },
  {
   "cell_type": "code",
   "execution_count": 6,
   "metadata": {
    "vscode": {
     "languageId": "r"
    }
   },
   "outputs": [
    {
     "name": "stdout",
     "output_type": "stream",
     "text": [
      "  순서 고려, 복원추출의 경우의 수   : 9 \n",
      "  순서 고려, 비복원추출의 경우의 수 : 6"
     ]
    }
   ],
   "source": [
    "# 순서 고려, 복원추출\n",
    "a1 = nsamp(n=3, k=2, replace=TRUE, ordered=TRUE)\n",
    "# 순서 고려, 비복원추출\n",
    "a2 = nsamp(n=3, k=2, replace=FALSE, ordered=TRUE)\n",
    "\n",
    "cat(\"  순서 고려, 복원추출의 경우의 수   :\", a1, \"\\n\")\n",
    "cat(\"  순서 고려, 비복원추출의 경우의 수 :\", a2)"
   ]
  },
  {
   "cell_type": "code",
   "execution_count": 7,
   "metadata": {
    "vscode": {
     "languageId": "r"
    }
   },
   "outputs": [
    {
     "data": {
      "text/html": [
       "<table>\n",
       "<caption>A data.frame: 6 × 2</caption>\n",
       "<thead>\n",
       "\t<tr><th scope=col>X1</th><th scope=col>probs</th></tr>\n",
       "\t<tr><th scope=col>&lt;int&gt;</th><th scope=col>&lt;dbl&gt;</th></tr>\n",
       "</thead>\n",
       "<tbody>\n",
       "\t<tr><td>1</td><td>0.1666667</td></tr>\n",
       "\t<tr><td>2</td><td>0.1666667</td></tr>\n",
       "\t<tr><td>3</td><td>0.1666667</td></tr>\n",
       "\t<tr><td>4</td><td>0.1666667</td></tr>\n",
       "\t<tr><td>5</td><td>0.1666667</td></tr>\n",
       "\t<tr><td>6</td><td>0.1666667</td></tr>\n",
       "</tbody>\n",
       "</table>\n"
      ],
      "text/latex": [
       "A data.frame: 6 × 2\n",
       "\\begin{tabular}{r|ll}\n",
       " X1 & probs\\\\\n",
       " <int> & <dbl>\\\\\n",
       "\\hline\n",
       "\t 1 & 0.1666667\\\\\n",
       "\t 2 & 0.1666667\\\\\n",
       "\t 3 & 0.1666667\\\\\n",
       "\t 4 & 0.1666667\\\\\n",
       "\t 5 & 0.1666667\\\\\n",
       "\t 6 & 0.1666667\\\\\n",
       "\\end{tabular}\n"
      ],
      "text/markdown": [
       "\n",
       "A data.frame: 6 × 2\n",
       "\n",
       "| X1 &lt;int&gt; | probs &lt;dbl&gt; |\n",
       "|---|---|\n",
       "| 1 | 0.1666667 |\n",
       "| 2 | 0.1666667 |\n",
       "| 3 | 0.1666667 |\n",
       "| 4 | 0.1666667 |\n",
       "| 5 | 0.1666667 |\n",
       "| 6 | 0.1666667 |\n",
       "\n"
      ],
      "text/plain": [
       "  X1 probs    \n",
       "1 1  0.1666667\n",
       "2 2  0.1666667\n",
       "3 3  0.1666667\n",
       "4 4  0.1666667\n",
       "5 5  0.1666667\n",
       "6 6  0.1666667"
      ]
     },
     "metadata": {},
     "output_type": "display_data"
    }
   ],
   "source": [
    "#주사위 확률계산\n",
    "rolldie(1, makespace=TRUE)"
   ]
  },
  {
   "cell_type": "code",
   "execution_count": 8,
   "metadata": {
    "vscode": {
     "languageId": "r"
    }
   },
   "outputs": [
    {
     "data": {
      "text/html": [
       "<table>\n",
       "<caption>A data.frame: 2 × 2</caption>\n",
       "<thead>\n",
       "\t<tr><th scope=col>toss1</th><th scope=col>probs</th></tr>\n",
       "\t<tr><th scope=col>&lt;fct&gt;</th><th scope=col>&lt;dbl&gt;</th></tr>\n",
       "</thead>\n",
       "<tbody>\n",
       "\t<tr><td>H</td><td>0.5</td></tr>\n",
       "\t<tr><td>T</td><td>0.5</td></tr>\n",
       "</tbody>\n",
       "</table>\n"
      ],
      "text/latex": [
       "A data.frame: 2 × 2\n",
       "\\begin{tabular}{r|ll}\n",
       " toss1 & probs\\\\\n",
       " <fct> & <dbl>\\\\\n",
       "\\hline\n",
       "\t H & 0.5\\\\\n",
       "\t T & 0.5\\\\\n",
       "\\end{tabular}\n"
      ],
      "text/markdown": [
       "\n",
       "A data.frame: 2 × 2\n",
       "\n",
       "| toss1 &lt;fct&gt; | probs &lt;dbl&gt; |\n",
       "|---|---|\n",
       "| H | 0.5 |\n",
       "| T | 0.5 |\n",
       "\n"
      ],
      "text/plain": [
       "  toss1 probs\n",
       "1 H     0.5  \n",
       "2 T     0.5  "
      ]
     },
     "metadata": {},
     "output_type": "display_data"
    }
   ],
   "source": [
    "#동전던지기 확률계산\n",
    "tosscoin(1, makespace=TRUE)"
   ]
  },
  {
   "cell_type": "code",
   "execution_count": 9,
   "metadata": {
    "vscode": {
     "languageId": "r"
    }
   },
   "outputs": [
    {
     "name": "stdout",
     "output_type": "stream",
     "text": [
      " P(A) = 0.5 \n",
      " P(B) = 0.3333333 \n",
      " P(A U B) = 0.6666667 \n",
      " P(A ^ B) = 0.1666667 \n",
      " P(A - B) = 0.3333333"
     ]
    }
   ],
   "source": [
    "S=rolldie(1, makespace=TRUE)\n",
    "A=subset(S, X1==2 | X1==4 | X1==6)\n",
    "B=subset(S, X1==3 | X1==6)\n",
    "pa = Prob(A)\n",
    "pb = Prob(B)\n",
    "paub = Prob(union(A,B))\n",
    "pacb = Prob(intersect(A,B))\n",
    "padb = Prob(setdiff(A,B))\n",
    "\n",
    "cat(\" P(A) =\", pa, \"\\n\")\n",
    "cat(\" P(B) =\", pb, \"\\n\")\n",
    "cat(\" P(A U B) =\", paub, \"\\n\")\n",
    "cat(\" P(A ^ B) =\", pacb, \"\\n\")\n",
    "cat(\" P(A - B) =\", padb)"
   ]
  }
 ],
 "metadata": {
  "kernelspec": {
   "display_name": "R",
   "language": "R",
   "name": "ir"
  },
  "language_info": {
   "codemirror_mode": "r",
   "file_extension": ".r",
   "mimetype": "text/x-r-source",
   "name": "R",
   "pygments_lexer": "r",
   "version": "3.6.0"
  }
 },
 "nbformat": 4,
 "nbformat_minor": 1
}
