{
 "cells": [
  {
   "cell_type": "markdown",
   "metadata": {},
   "source": [
    "## 제3장"
   ]
  },
  {
   "cell_type": "code",
   "execution_count": null,
   "metadata": {
    "vscode": {
     "languageId": "r"
    }
   },
   "outputs": [],
   "source": [
    "library(rolldie)"
   ]
  },
  {
   "cell_type": "code",
   "execution_count": 10,
   "metadata": {
    "vscode": {
     "languageId": "r"
    }
   },
   "outputs": [],
   "source": [
    "#표본공간, 사건의 지정\n",
    "S = rolldie(1, makespace=TRUE)\n",
    "A = subset(S, X1%in%c(2,4,6))\n",
    "B = subset(S, X1%in%c(3,6))"
   ]
  },
  {
   "cell_type": "code",
   "execution_count": 11,
   "metadata": {
    "vscode": {
     "languageId": "r"
    }
   },
   "outputs": [
    {
     "name": "stdout",
     "output_type": "stream",
     "text": [
      " P(A|B) = 0.5 \n",
      " P(B|A) = 0.3333333 \n",
      " P(A|B) = 0.5 \n"
     ]
    }
   ],
   "source": [
    "#조건부 확률\n",
    "pab = Prob(A, given=B)\n",
    "pba = Prob(B, given=A)\n",
    "pab1 = Prob(intersect(A,B))/Prob(B)\n",
    "\n",
    "cat(\" P(A|B) =\", pab, \"\\n\")\n",
    "cat(\" P(B|A) =\", pba, \"\\n\")\n",
    "cat(\" P(A|B) =\", pab1, \"\\n\")"
   ]
  }
 ],
 "metadata": {
  "kernelspec": {
   "display_name": "R",
   "language": "R",
   "name": "ir"
  },
  "language_info": {
   "codemirror_mode": "r",
   "file_extension": ".r",
   "mimetype": "text/x-r-source",
   "name": "R",
   "pygments_lexer": "r",
   "version": "3.6.0"
  }
 },
 "nbformat": 4,
 "nbformat_minor": 1
}
